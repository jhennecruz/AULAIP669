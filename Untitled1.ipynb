{
  "nbformat": 4,
  "nbformat_minor": 0,
  "metadata": {
    "colab": {
      "name": "Untitled1.ipynb",
      "provenance": [],
      "authorship_tag": "ABX9TyP2sXQ26paxpSjjKqQV2qIE",
      "include_colab_link": true
    },
    "kernelspec": {
      "name": "python3",
      "display_name": "Python 3"
    }
  },
  "cells": [
    {
      "cell_type": "markdown",
      "metadata": {
        "id": "view-in-github",
        "colab_type": "text"
      },
      "source": [
        "<a href=\"https://colab.research.google.com/github/jhennecruz/AULAIP669/blob/master/Untitled1.ipynb\" target=\"_parent\"><img src=\"https://colab.research.google.com/assets/colab-badge.svg\" alt=\"Open In Colab\"/></a>"
      ]
    },
    {
      "cell_type": "code",
      "metadata": {
        "id": "bmq-m2M3bqD7",
        "colab_type": "code",
        "outputId": "7112f876-d608-4777-d9fa-0cc49ea88466",
        "colab": {
          "base_uri": "https://localhost:8080/",
          "height": 119
        }
      },
      "source": [
        "number01 = int (input('Digite um número: '))\n",
        "number02 = int (input('Digite um número: '))\n",
        "number03 = int (input('Digite um número: '))\n",
        "\n",
        "\n",
        "if number01>number02 and number01>number03 and number02<number03:\n",
        "  print(number01)\n",
        "  print(number03)\n",
        "  print(number02)\n",
        "elif number01 > number02 and number01>number02 and number02>number03:\n",
        "  print(number01)\n",
        "  print(number03)\n",
        "  print(number02)\n",
        "elif number01< number02 and number01<number03 and number02<number03:\n",
        "  print(number03)\n",
        "  print(number02)\n",
        "  print(number01)\n",
        "elif number01< number02 and number01<number03 and number02>number03:\n",
        "  print(number02)\n",
        "  print(number03)\n",
        "  print(number01)\n",
        "elif number01< number02 and number01>number03 and number02>number03:\n",
        "  print(number02)\n",
        "  print(number01)\n",
        "  print(number03)\n",
        "elif number01>number02 and number01<number03 and number02<number03:\n",
        "  print(number03)\n",
        "  print(number01)\n",
        "  print(number02)"
      ],
      "execution_count": 0,
      "outputs": [
        {
          "output_type": "stream",
          "text": [
            "Digite um número: 2\n",
            "Digite um número: 1\n",
            "Digite um número: 3\n",
            "3\n",
            "2\n",
            "1\n"
          ],
          "name": "stdout"
        }
      ]
    }
  ]
}